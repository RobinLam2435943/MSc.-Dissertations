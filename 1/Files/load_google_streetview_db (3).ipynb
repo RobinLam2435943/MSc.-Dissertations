{
  "cells": [
    {
      "cell_type": "code",
      "execution_count": null,
      "id": "711c9708-3af0-4b05-8749-772e55a6a4c1",
      "metadata": {
        "execution": {
          "iopub.execute_input": "2023-05-05T10:41:20.791372Z",
          "iopub.status.busy": "2023-05-05T10:41:20.790595Z",
          "iopub.status.idle": "2023-05-05T10:41:23.576358Z",
          "shell.execute_reply": "2023-05-05T10:41:23.575332Z",
          "shell.execute_reply.started": "2023-05-05T10:41:20.791331Z"
        },
        "tags": [],
        "id": "711c9708-3af0-4b05-8749-772e55a6a4c1"
      },
      "outputs": [],
      "source": [
        "!pip install google-streetview\n"
      ]
    },
    {
      "cell_type": "code",
      "source": [],
      "metadata": {
        "id": "lqtU5afqAZ_O"
      },
      "id": "lqtU5afqAZ_O",
      "execution_count": null,
      "outputs": []
    },
    {
      "cell_type": "markdown",
      "source": [],
      "metadata": {
        "id": "ZWI_1oJ1Aal0"
      },
      "id": "ZWI_1oJ1Aal0"
    },
    {
      "cell_type": "code",
      "execution_count": null,
      "id": "7976ca5d-3d06-4bb0-b162-0f070f923567",
      "metadata": {
        "execution": {
          "iopub.execute_input": "2023-05-05T10:41:23.579562Z",
          "iopub.status.busy": "2023-05-05T10:41:23.579096Z",
          "iopub.status.idle": "2023-05-05T10:41:24.086876Z",
          "shell.execute_reply": "2023-05-05T10:41:24.085990Z",
          "shell.execute_reply.started": "2023-05-05T10:41:23.579513Z"
        },
        "tags": [],
        "id": "7976ca5d-3d06-4bb0-b162-0f070f923567"
      },
      "outputs": [],
      "source": [
        "import requests\n",
        "import re\n",
        "import pandas as pd\n",
        "import time\n",
        "import random\n",
        "import json\n",
        "import google_streetview\n",
        "import google_streetview.api\n",
        "from google_streetview import helpers\n",
        "from os import path, makedirs\n",
        "import uuid\n",
        "import warnings\n",
        "warnings.filterwarnings('ignore')"
      ]
    },
    {
      "cell_type": "markdown",
      "id": "740c3f14-e506-482f-b30d-0e73c7059044",
      "metadata": {
        "id": "740c3f14-e506-482f-b30d-0e73c7059044"
      },
      "source": [
        "Function for downloading google street view images with specific titles"
      ]
    },
    {
      "cell_type": "code",
      "execution_count": null,
      "id": "787e6be7-80d9-422d-a1ba-5d92213049d6",
      "metadata": {
        "execution": {
          "iopub.execute_input": "2023-05-05T10:41:25.090325Z",
          "iopub.status.busy": "2023-05-05T10:41:25.089152Z",
          "iopub.status.idle": "2023-05-05T10:41:25.104343Z",
          "shell.execute_reply": "2023-05-05T10:41:25.103152Z",
          "shell.execute_reply.started": "2023-05-05T10:41:25.090289Z"
        },
        "tags": [],
        "id": "787e6be7-80d9-422d-a1ba-5d92213049d6"
      },
      "outputs": [],
      "source": [
        "\n",
        "def download_links_with_names(results, dir_path, names, metadata_file='metadata.json', metadata_status='status', status_ok='OK'):\n",
        "\n",
        "    \"\"\"Download Google Street View images from parameter queries if they are available.\n",
        "\n",
        "    Args:\n",
        "      names (list): list of image titles\n",
        "      dir_path (str):\n",
        "        Path of directory to save downloads of images from :class:`api.results`.links\n",
        "      metadata_file (str):\n",
        "         Name of the file with extension to save the :class:`api.results`.metadata\n",
        "      metadata_status (str):\n",
        "        Key name of the status value from :class:`api.results`.metadata response from the metadata API request.\n",
        "      status_ok (str):\n",
        "        Value from the metadata API response status indicating that an image is available.\n",
        "    \"\"\"\n",
        "    metadata = results.metadata\n",
        "    if not path.isdir(dir_path):\n",
        "      makedirs(dir_path)\n",
        "\n",
        "    # (download) Download images if status from metadata is ok\n",
        "    for i, url in enumerate(results.links):\n",
        "      if metadata[i][metadata_status] == status_ok:\n",
        "        file_path = path.join(dir_path, 'gsv_' + str(names[i]) + '.jpg')\n",
        "        metadata[i]['_file'] = path.basename(file_path) # add file reference\n",
        "        helpers.download(url, file_path)\n",
        "\n",
        "    # (metadata) Save metadata with file reference\n",
        "    metadata_path = path.join(dir_path, metadata_file)\n",
        "    with open(metadata_path, 'w') as out_file:\n",
        "      json.dump(metadata, out_file)"
      ]
    },
    {
      "cell_type": "markdown",
      "id": "90fad0ab-31ad-40f5-8b17-e40fe93fc776",
      "metadata": {
        "id": "90fad0ab-31ad-40f5-8b17-e40fe93fc776"
      },
      "source": [
        "Google street view API key.\n",
        "Check https://developers.google.com/maps/documentation/streetview/get-api-key to get your own api key"
      ]
    },
    {
      "cell_type": "code",
      "execution_count": null,
      "id": "b4c02118-f95c-4d8e-a993-96fe2fc5d089",
      "metadata": {
        "execution": {
          "iopub.execute_input": "2023-05-05T10:41:26.859496Z",
          "iopub.status.busy": "2023-05-05T10:41:26.858789Z",
          "iopub.status.idle": "2023-05-05T10:41:26.868272Z",
          "shell.execute_reply": "2023-05-05T10:41:26.866581Z",
          "shell.execute_reply.started": "2023-05-05T10:41:26.859462Z"
        },
        "tags": [],
        "id": "b4c02118-f95c-4d8e-a993-96fe2fc5d089"
      },
      "outputs": [],
      "source": [
        "#api_key ='insert your api_key here'\n",
        "api_key = ' '"
      ]
    },
    {
      "cell_type": "code",
      "execution_count": null,
      "id": "879d2140-64b2-4f2d-af0d-758f7765a56f",
      "metadata": {
        "execution": {
          "iopub.execute_input": "2023-05-05T10:41:27.427936Z",
          "iopub.status.busy": "2023-05-05T10:41:27.427498Z",
          "iopub.status.idle": "2023-05-05T10:41:27.443502Z",
          "shell.execute_reply": "2023-05-05T10:41:27.441464Z",
          "shell.execute_reply.started": "2023-05-05T10:41:27.427905Z"
        },
        "tags": [],
        "id": "879d2140-64b2-4f2d-af0d-758f7765a56f"
      },
      "outputs": [],
      "source": [
        "download_path = 'detailed_images/' #path for the dateiled images from rightmove ad - this is optional\n",
        "unique_ids = [] # each property willbe assign uniques ids, this ids will be used as a names for google streetview images\n",
        "property_results = pd.DataFrame(columns = ['address','propertyType','bedrooms', 'detailUrl', 'location_lat', 'location_lng','property_id', 'index']) #dataframe to save property results\n",
        "transaction_results = pd.DataFrame(columns = ['property_id','displayPrice','dateSold', 'tenure', 'newBuild']) # datafram to save property transactions reuslts\n",
        "\n",
        "# lists to save location of property for google street view ( longitud, lattitudes) from rightmoe ad\n",
        "locc_lat= []\n",
        "locc_lng = []\n",
        "property_counter = 0"
      ]
    },
    {
      "cell_type": "code",
      "execution_count": null,
      "id": "34b2c9d3-9871-4955-ba57-41c5c2fb54b0",
      "metadata": {
        "execution": {
          "iopub.execute_input": "2023-05-05T10:41:29.464617Z",
          "iopub.status.busy": "2023-05-05T10:41:29.460810Z",
          "iopub.status.idle": "2023-05-05T10:41:29.499726Z",
          "shell.execute_reply": "2023-05-05T10:41:29.497715Z",
          "shell.execute_reply.started": "2023-05-05T10:41:29.464570Z"
        },
        "tags": [],
        "id": "34b2c9d3-9871-4955-ba57-41c5c2fb54b0"
      },
      "outputs": [],
      "source": [
        "uk_outcodes = list(pd.read_csv('outcodes.csv', header=None)[0]) #load the list of UK outcodes , https://en.wikipedia.org/wiki/Postcodes_in_the_United_Kingdom\n",
        "\n",
        "#select 10 random outcodes\n",
        "selected_outcodes = random.sample(uk_outcodes,10)"
      ]
    },
    {
      "cell_type": "code",
      "execution_count": null,
      "id": "ce401335-9571-4648-8250-4dfc4aec6d09",
      "metadata": {
        "execution": {
          "iopub.execute_input": "2023-05-05T10:41:30.871827Z",
          "iopub.status.busy": "2023-05-05T10:41:30.871116Z",
          "iopub.status.idle": "2023-05-05T10:49:49.597867Z",
          "shell.execute_reply": "2023-05-05T10:49:49.585530Z",
          "shell.execute_reply.started": "2023-05-05T10:41:30.871792Z"
        },
        "tags": [],
        "id": "ce401335-9571-4648-8250-4dfc4aec6d09"
      },
      "outputs": [],
      "source": [
        "\n",
        "for borough in selected_outcodes:\n",
        "    index = 0\n",
        "    for pages in range(39): #rightmove shows 40 pages\n",
        "\n",
        "      # define our user headers\n",
        "      headers = {\n",
        "          \"User-Agent\": \"Mozilla/5.0 (Windows NT 10.0; Win64; x64) AppleWebKit/537.36 (KHTML, like Gecko) Chrome/89.0.4389.114 Safari/537.36\"\n",
        "      }\n",
        "\n",
        "      # the website changes if you are on page 1 as compared to other pages\n",
        "      if index == 0:\n",
        "          rightmove = f\"https://www.rightmove.co.uk/house-prices/{borough}.html?country=england&searchLocation={borough}\"\n",
        "\n",
        "      elif index != 0:\n",
        "          rightmove = f\"https://www.rightmove.co.uk/house-prices/{borough}.html?page={index}\"\n",
        "\n",
        "      # request our webpage\n",
        "      res = requests.get(rightmove, headers=headers)\n",
        "\n",
        "      # check status\n",
        "      res.raise_for_status()\n",
        "\n",
        "      # scrapping sold property information\n",
        "      start = '<script>window.__PRELOADED_STATE__ = '\n",
        "      end   = '</script>'\n",
        "      javascript_res = (res.text)[(res.text).find(start) + len(start):]\n",
        "      javascript_res = javascript_res[:javascript_res.find(end)]\n",
        "      javascript_res=json.loads(javascript_res)\n",
        "      apartments = javascript_res['results']['properties']\n",
        "\n",
        "\n",
        "      for i in apartments:\n",
        "            # saving location for google street view images\n",
        "            locc_lat.append(i['location']['lat'])\n",
        "            locc_lng.append(i['location']['lng'])\n",
        "\n",
        "            #creating unique ids to link property and transactions\n",
        "            uniques_id = str(uuid.uuid4())\n",
        "            unique_ids.append(uniques_id)\n",
        "\n",
        "            #updating property dataframe\n",
        "            data = { k: v for k, v in i.items() if k in['address','propertyType','bedrooms', 'detailUrl' ]}\n",
        "            data['location_lat'] = i['location']['lat']\n",
        "            data['location_lng'] = i['location']['lng']\n",
        "            data['property_id'] = uniques_id\n",
        "            data['index'] = [property_counter]\n",
        "            property_counter = property_counter + 1\n",
        "            property_results = pd.concat([property_results, pd.DataFrame.from_dict(data)])\n",
        "\n",
        "            #updating transaction dataframe\n",
        "            transaction_data = pd.DataFrame.from_dict(i['transactions'])\n",
        "            transaction_data['property_id'] = uniques_id\n",
        "            transaction_results = pd.concat([transaction_results, transaction_data])\n",
        "\n",
        "            # THIS PART IS OPTIONAL load additional images from rightmove\n",
        "            #rightmove has a limits of request\n",
        "            #res_images = requests.get(data['detailUrl'], headers=headers)\n",
        "            #res_images.raise_for_status()\n",
        "            #start1 = 'window.PAGE_MODEL = '\n",
        "            #end1   = '</script>'\n",
        "            #javascript_image_res = (res_images.text)[(res_images.text).find(start1) + len(start1):]\n",
        "            #javascript_image_res = javascript_image_res[:javascript_image_res.find(end1)]\n",
        "            #javascript_image_res = json.loads(javascript_image_res)\n",
        "            #if javascript_image_res['soldPropertyData']['property'] != None :\n",
        "                #additional_images = javascript_image_res['soldPropertyData']['property']['images']\n",
        "\n",
        "\n",
        "                #dir_path = download_path + data['property_id']+'/'\n",
        "                #if not path.isdir(dir_path):\n",
        "                  #makedirs(dir_path)\n",
        "\n",
        "                #for (indx, element) in enumerate(additional_images):\n",
        "                    #if (indx<2): #lets download only first two images\n",
        "                        #img_url = element['url']\n",
        "                        #file_path = path.join(dir_path, data['property_id']+'_' + str(indx) + '.jpg')\n",
        "                        #helpers.download(img_url, file_path)"
      ]
    },
    {
      "cell_type": "code",
      "execution_count": null,
      "id": "f8646b00-7672-4747-97c7-c613a32de999",
      "metadata": {
        "execution": {
          "iopub.execute_input": "2023-05-05T10:51:30.708421Z",
          "iopub.status.busy": "2023-05-05T10:51:30.706727Z",
          "iopub.status.idle": "2023-05-05T10:52:32.742422Z",
          "shell.execute_reply": "2023-05-05T10:52:32.741514Z",
          "shell.execute_reply.started": "2023-05-05T10:51:30.708368Z"
        },
        "id": "f8646b00-7672-4747-97c7-c613a32de999"
      },
      "outputs": [],
      "source": [
        "#loading and saving google streetview images\n",
        "params = {\n",
        "    'size':'640x640',\n",
        "    'location':';'.join(['{},{}'.format(i,j) for (i,j)  in zip(locc_lat, locc_lng)]),\n",
        "    'key': api_key,\n",
        "    'heading':'0'\n",
        "    }\n",
        "api_list = google_streetview.helpers.api_list(params)\n",
        "results = google_streetview.api.results(api_list)"
      ]
    },
    {
      "cell_type": "code",
      "execution_count": null,
      "id": "bacf4165-5bb6-4863-8179-80aac1619e81",
      "metadata": {
        "execution": {
          "iopub.execute_input": "2023-05-05T10:53:05.906736Z",
          "iopub.status.busy": "2023-05-05T10:53:05.902980Z"
        },
        "tags": [],
        "id": "bacf4165-5bb6-4863-8179-80aac1619e81"
      },
      "outputs": [],
      "source": [
        "download_links_with_names(results, 'street_view/', unique_ids)"
      ]
    },
    {
      "cell_type": "code",
      "execution_count": null,
      "id": "401ef94c-3583-49e8-939d-83d1d727daae",
      "metadata": {
        "execution": {
          "iopub.execute_input": "2023-05-05T10:57:56.217080Z",
          "iopub.status.busy": "2023-05-05T10:57:56.216614Z",
          "iopub.status.idle": "2023-05-05T10:57:56.344585Z",
          "shell.execute_reply": "2023-05-05T10:57:56.343586Z",
          "shell.execute_reply.started": "2023-05-05T10:57:56.217042Z"
        },
        "id": "401ef94c-3583-49e8-939d-83d1d727daae"
      },
      "outputs": [],
      "source": [
        "\n",
        "property_results.drop(columns=['index'], inplace=True)\n",
        "property_results.reset_index(drop=True)\n",
        "property_results.to_csv('properties.csv')\n",
        "transaction_results.reset_index(drop=True).to_csv('property_transactions.csv')"
      ]
    }
  ],
  "metadata": {
    "availableInstances": [
      {
        "_defaultOrder": 0,
        "_isFastLaunch": true,
        "category": "General purpose",
        "gpuNum": 0,
        "hideHardwareSpecs": false,
        "memoryGiB": 4,
        "name": "ml.t3.medium",
        "vcpuNum": 2
      },
      {
        "_defaultOrder": 1,
        "_isFastLaunch": false,
        "category": "General purpose",
        "gpuNum": 0,
        "hideHardwareSpecs": false,
        "memoryGiB": 8,
        "name": "ml.t3.large",
        "vcpuNum": 2
      },
      {
        "_defaultOrder": 2,
        "_isFastLaunch": false,
        "category": "General purpose",
        "gpuNum": 0,
        "hideHardwareSpecs": false,
        "memoryGiB": 16,
        "name": "ml.t3.xlarge",
        "vcpuNum": 4
      },
      {
        "_defaultOrder": 3,
        "_isFastLaunch": false,
        "category": "General purpose",
        "gpuNum": 0,
        "hideHardwareSpecs": false,
        "memoryGiB": 32,
        "name": "ml.t3.2xlarge",
        "vcpuNum": 8
      },
      {
        "_defaultOrder": 4,
        "_isFastLaunch": true,
        "category": "General purpose",
        "gpuNum": 0,
        "hideHardwareSpecs": false,
        "memoryGiB": 8,
        "name": "ml.m5.large",
        "vcpuNum": 2
      },
      {
        "_defaultOrder": 5,
        "_isFastLaunch": false,
        "category": "General purpose",
        "gpuNum": 0,
        "hideHardwareSpecs": false,
        "memoryGiB": 16,
        "name": "ml.m5.xlarge",
        "vcpuNum": 4
      },
      {
        "_defaultOrder": 6,
        "_isFastLaunch": false,
        "category": "General purpose",
        "gpuNum": 0,
        "hideHardwareSpecs": false,
        "memoryGiB": 32,
        "name": "ml.m5.2xlarge",
        "vcpuNum": 8
      },
      {
        "_defaultOrder": 7,
        "_isFastLaunch": false,
        "category": "General purpose",
        "gpuNum": 0,
        "hideHardwareSpecs": false,
        "memoryGiB": 64,
        "name": "ml.m5.4xlarge",
        "vcpuNum": 16
      },
      {
        "_defaultOrder": 8,
        "_isFastLaunch": false,
        "category": "General purpose",
        "gpuNum": 0,
        "hideHardwareSpecs": false,
        "memoryGiB": 128,
        "name": "ml.m5.8xlarge",
        "vcpuNum": 32
      },
      {
        "_defaultOrder": 9,
        "_isFastLaunch": false,
        "category": "General purpose",
        "gpuNum": 0,
        "hideHardwareSpecs": false,
        "memoryGiB": 192,
        "name": "ml.m5.12xlarge",
        "vcpuNum": 48
      },
      {
        "_defaultOrder": 10,
        "_isFastLaunch": false,
        "category": "General purpose",
        "gpuNum": 0,
        "hideHardwareSpecs": false,
        "memoryGiB": 256,
        "name": "ml.m5.16xlarge",
        "vcpuNum": 64
      },
      {
        "_defaultOrder": 11,
        "_isFastLaunch": false,
        "category": "General purpose",
        "gpuNum": 0,
        "hideHardwareSpecs": false,
        "memoryGiB": 384,
        "name": "ml.m5.24xlarge",
        "vcpuNum": 96
      },
      {
        "_defaultOrder": 12,
        "_isFastLaunch": false,
        "category": "General purpose",
        "gpuNum": 0,
        "hideHardwareSpecs": false,
        "memoryGiB": 8,
        "name": "ml.m5d.large",
        "vcpuNum": 2
      },
      {
        "_defaultOrder": 13,
        "_isFastLaunch": false,
        "category": "General purpose",
        "gpuNum": 0,
        "hideHardwareSpecs": false,
        "memoryGiB": 16,
        "name": "ml.m5d.xlarge",
        "vcpuNum": 4
      },
      {
        "_defaultOrder": 14,
        "_isFastLaunch": false,
        "category": "General purpose",
        "gpuNum": 0,
        "hideHardwareSpecs": false,
        "memoryGiB": 32,
        "name": "ml.m5d.2xlarge",
        "vcpuNum": 8
      },
      {
        "_defaultOrder": 15,
        "_isFastLaunch": false,
        "category": "General purpose",
        "gpuNum": 0,
        "hideHardwareSpecs": false,
        "memoryGiB": 64,
        "name": "ml.m5d.4xlarge",
        "vcpuNum": 16
      },
      {
        "_defaultOrder": 16,
        "_isFastLaunch": false,
        "category": "General purpose",
        "gpuNum": 0,
        "hideHardwareSpecs": false,
        "memoryGiB": 128,
        "name": "ml.m5d.8xlarge",
        "vcpuNum": 32
      },
      {
        "_defaultOrder": 17,
        "_isFastLaunch": false,
        "category": "General purpose",
        "gpuNum": 0,
        "hideHardwareSpecs": false,
        "memoryGiB": 192,
        "name": "ml.m5d.12xlarge",
        "vcpuNum": 48
      },
      {
        "_defaultOrder": 18,
        "_isFastLaunch": false,
        "category": "General purpose",
        "gpuNum": 0,
        "hideHardwareSpecs": false,
        "memoryGiB": 256,
        "name": "ml.m5d.16xlarge",
        "vcpuNum": 64
      },
      {
        "_defaultOrder": 19,
        "_isFastLaunch": false,
        "category": "General purpose",
        "gpuNum": 0,
        "hideHardwareSpecs": false,
        "memoryGiB": 384,
        "name": "ml.m5d.24xlarge",
        "vcpuNum": 96
      },
      {
        "_defaultOrder": 20,
        "_isFastLaunch": false,
        "category": "General purpose",
        "gpuNum": 0,
        "hideHardwareSpecs": true,
        "memoryGiB": 0,
        "name": "ml.geospatial.interactive",
        "supportedImageNames": [
          "sagemaker-geospatial-v1-0"
        ],
        "vcpuNum": 0
      },
      {
        "_defaultOrder": 21,
        "_isFastLaunch": true,
        "category": "Compute optimized",
        "gpuNum": 0,
        "hideHardwareSpecs": false,
        "memoryGiB": 4,
        "name": "ml.c5.large",
        "vcpuNum": 2
      },
      {
        "_defaultOrder": 22,
        "_isFastLaunch": false,
        "category": "Compute optimized",
        "gpuNum": 0,
        "hideHardwareSpecs": false,
        "memoryGiB": 8,
        "name": "ml.c5.xlarge",
        "vcpuNum": 4
      },
      {
        "_defaultOrder": 23,
        "_isFastLaunch": false,
        "category": "Compute optimized",
        "gpuNum": 0,
        "hideHardwareSpecs": false,
        "memoryGiB": 16,
        "name": "ml.c5.2xlarge",
        "vcpuNum": 8
      },
      {
        "_defaultOrder": 24,
        "_isFastLaunch": false,
        "category": "Compute optimized",
        "gpuNum": 0,
        "hideHardwareSpecs": false,
        "memoryGiB": 32,
        "name": "ml.c5.4xlarge",
        "vcpuNum": 16
      },
      {
        "_defaultOrder": 25,
        "_isFastLaunch": false,
        "category": "Compute optimized",
        "gpuNum": 0,
        "hideHardwareSpecs": false,
        "memoryGiB": 72,
        "name": "ml.c5.9xlarge",
        "vcpuNum": 36
      },
      {
        "_defaultOrder": 26,
        "_isFastLaunch": false,
        "category": "Compute optimized",
        "gpuNum": 0,
        "hideHardwareSpecs": false,
        "memoryGiB": 96,
        "name": "ml.c5.12xlarge",
        "vcpuNum": 48
      },
      {
        "_defaultOrder": 27,
        "_isFastLaunch": false,
        "category": "Compute optimized",
        "gpuNum": 0,
        "hideHardwareSpecs": false,
        "memoryGiB": 144,
        "name": "ml.c5.18xlarge",
        "vcpuNum": 72
      },
      {
        "_defaultOrder": 28,
        "_isFastLaunch": false,
        "category": "Compute optimized",
        "gpuNum": 0,
        "hideHardwareSpecs": false,
        "memoryGiB": 192,
        "name": "ml.c5.24xlarge",
        "vcpuNum": 96
      },
      {
        "_defaultOrder": 29,
        "_isFastLaunch": true,
        "category": "Accelerated computing",
        "gpuNum": 1,
        "hideHardwareSpecs": false,
        "memoryGiB": 16,
        "name": "ml.g4dn.xlarge",
        "vcpuNum": 4
      },
      {
        "_defaultOrder": 30,
        "_isFastLaunch": false,
        "category": "Accelerated computing",
        "gpuNum": 1,
        "hideHardwareSpecs": false,
        "memoryGiB": 32,
        "name": "ml.g4dn.2xlarge",
        "vcpuNum": 8
      },
      {
        "_defaultOrder": 31,
        "_isFastLaunch": false,
        "category": "Accelerated computing",
        "gpuNum": 1,
        "hideHardwareSpecs": false,
        "memoryGiB": 64,
        "name": "ml.g4dn.4xlarge",
        "vcpuNum": 16
      },
      {
        "_defaultOrder": 32,
        "_isFastLaunch": false,
        "category": "Accelerated computing",
        "gpuNum": 1,
        "hideHardwareSpecs": false,
        "memoryGiB": 128,
        "name": "ml.g4dn.8xlarge",
        "vcpuNum": 32
      },
      {
        "_defaultOrder": 33,
        "_isFastLaunch": false,
        "category": "Accelerated computing",
        "gpuNum": 4,
        "hideHardwareSpecs": false,
        "memoryGiB": 192,
        "name": "ml.g4dn.12xlarge",
        "vcpuNum": 48
      },
      {
        "_defaultOrder": 34,
        "_isFastLaunch": false,
        "category": "Accelerated computing",
        "gpuNum": 1,
        "hideHardwareSpecs": false,
        "memoryGiB": 256,
        "name": "ml.g4dn.16xlarge",
        "vcpuNum": 64
      },
      {
        "_defaultOrder": 35,
        "_isFastLaunch": false,
        "category": "Accelerated computing",
        "gpuNum": 1,
        "hideHardwareSpecs": false,
        "memoryGiB": 61,
        "name": "ml.p3.2xlarge",
        "vcpuNum": 8
      },
      {
        "_defaultOrder": 36,
        "_isFastLaunch": false,
        "category": "Accelerated computing",
        "gpuNum": 4,
        "hideHardwareSpecs": false,
        "memoryGiB": 244,
        "name": "ml.p3.8xlarge",
        "vcpuNum": 32
      },
      {
        "_defaultOrder": 37,
        "_isFastLaunch": false,
        "category": "Accelerated computing",
        "gpuNum": 8,
        "hideHardwareSpecs": false,
        "memoryGiB": 488,
        "name": "ml.p3.16xlarge",
        "vcpuNum": 64
      },
      {
        "_defaultOrder": 38,
        "_isFastLaunch": false,
        "category": "Accelerated computing",
        "gpuNum": 8,
        "hideHardwareSpecs": false,
        "memoryGiB": 768,
        "name": "ml.p3dn.24xlarge",
        "vcpuNum": 96
      },
      {
        "_defaultOrder": 39,
        "_isFastLaunch": false,
        "category": "Memory Optimized",
        "gpuNum": 0,
        "hideHardwareSpecs": false,
        "memoryGiB": 16,
        "name": "ml.r5.large",
        "vcpuNum": 2
      },
      {
        "_defaultOrder": 40,
        "_isFastLaunch": false,
        "category": "Memory Optimized",
        "gpuNum": 0,
        "hideHardwareSpecs": false,
        "memoryGiB": 32,
        "name": "ml.r5.xlarge",
        "vcpuNum": 4
      },
      {
        "_defaultOrder": 41,
        "_isFastLaunch": false,
        "category": "Memory Optimized",
        "gpuNum": 0,
        "hideHardwareSpecs": false,
        "memoryGiB": 64,
        "name": "ml.r5.2xlarge",
        "vcpuNum": 8
      },
      {
        "_defaultOrder": 42,
        "_isFastLaunch": false,
        "category": "Memory Optimized",
        "gpuNum": 0,
        "hideHardwareSpecs": false,
        "memoryGiB": 128,
        "name": "ml.r5.4xlarge",
        "vcpuNum": 16
      },
      {
        "_defaultOrder": 43,
        "_isFastLaunch": false,
        "category": "Memory Optimized",
        "gpuNum": 0,
        "hideHardwareSpecs": false,
        "memoryGiB": 256,
        "name": "ml.r5.8xlarge",
        "vcpuNum": 32
      },
      {
        "_defaultOrder": 44,
        "_isFastLaunch": false,
        "category": "Memory Optimized",
        "gpuNum": 0,
        "hideHardwareSpecs": false,
        "memoryGiB": 384,
        "name": "ml.r5.12xlarge",
        "vcpuNum": 48
      },
      {
        "_defaultOrder": 45,
        "_isFastLaunch": false,
        "category": "Memory Optimized",
        "gpuNum": 0,
        "hideHardwareSpecs": false,
        "memoryGiB": 512,
        "name": "ml.r5.16xlarge",
        "vcpuNum": 64
      },
      {
        "_defaultOrder": 46,
        "_isFastLaunch": false,
        "category": "Memory Optimized",
        "gpuNum": 0,
        "hideHardwareSpecs": false,
        "memoryGiB": 768,
        "name": "ml.r5.24xlarge",
        "vcpuNum": 96
      },
      {
        "_defaultOrder": 47,
        "_isFastLaunch": false,
        "category": "Accelerated computing",
        "gpuNum": 1,
        "hideHardwareSpecs": false,
        "memoryGiB": 16,
        "name": "ml.g5.xlarge",
        "vcpuNum": 4
      },
      {
        "_defaultOrder": 48,
        "_isFastLaunch": false,
        "category": "Accelerated computing",
        "gpuNum": 1,
        "hideHardwareSpecs": false,
        "memoryGiB": 32,
        "name": "ml.g5.2xlarge",
        "vcpuNum": 8
      },
      {
        "_defaultOrder": 49,
        "_isFastLaunch": false,
        "category": "Accelerated computing",
        "gpuNum": 1,
        "hideHardwareSpecs": false,
        "memoryGiB": 64,
        "name": "ml.g5.4xlarge",
        "vcpuNum": 16
      },
      {
        "_defaultOrder": 50,
        "_isFastLaunch": false,
        "category": "Accelerated computing",
        "gpuNum": 1,
        "hideHardwareSpecs": false,
        "memoryGiB": 128,
        "name": "ml.g5.8xlarge",
        "vcpuNum": 32
      },
      {
        "_defaultOrder": 51,
        "_isFastLaunch": false,
        "category": "Accelerated computing",
        "gpuNum": 1,
        "hideHardwareSpecs": false,
        "memoryGiB": 256,
        "name": "ml.g5.16xlarge",
        "vcpuNum": 64
      },
      {
        "_defaultOrder": 52,
        "_isFastLaunch": false,
        "category": "Accelerated computing",
        "gpuNum": 4,
        "hideHardwareSpecs": false,
        "memoryGiB": 192,
        "name": "ml.g5.12xlarge",
        "vcpuNum": 48
      },
      {
        "_defaultOrder": 53,
        "_isFastLaunch": false,
        "category": "Accelerated computing",
        "gpuNum": 4,
        "hideHardwareSpecs": false,
        "memoryGiB": 384,
        "name": "ml.g5.24xlarge",
        "vcpuNum": 96
      },
      {
        "_defaultOrder": 54,
        "_isFastLaunch": false,
        "category": "Accelerated computing",
        "gpuNum": 8,
        "hideHardwareSpecs": false,
        "memoryGiB": 768,
        "name": "ml.g5.48xlarge",
        "vcpuNum": 192
      }
    ],
    "instance_type": "ml.t3.medium",
    "kernelspec": {
      "display_name": "SBML 3.8 (sbml-image-2.2.3/latest)",
      "language": "python",
      "name": "python3__SAGEMAKER_INTERNAL__arn:aws:sagemaker:eu-west-1:043816543011:image/sbml-image-2.2.3"
    },
    "language_info": {
      "codemirror_mode": {
        "name": "ipython",
        "version": 3
      },
      "file_extension": ".py",
      "mimetype": "text/x-python",
      "name": "python",
      "nbconvert_exporter": "python",
      "pygments_lexer": "ipython3",
      "version": "3.8.16"
    },
    "colab": {
      "provenance": [],
      "gpuType": "T4"
    },
    "accelerator": "GPU",
    "gpuClass": "standard"
  },
  "nbformat": 4,
  "nbformat_minor": 5
}