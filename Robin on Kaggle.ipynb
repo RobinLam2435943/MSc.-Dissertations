{
 "cells": [
  {
   "cell_type": "markdown",
   "id": "d0ab1bd1",
   "metadata": {
    "id": "sdt1cPGxrIS9",
    "papermill": {
     "duration": 0.008453,
     "end_time": "2023-06-20T00:27:07.066533",
     "exception": false,
     "start_time": "2023-06-20T00:27:07.058080",
     "status": "completed"
    },
    "tags": []
   },
   "source": [
    "## Imports Libraries"
   ]
  },
  {
   "cell_type": "code",
   "execution_count": 1,
   "id": "29338075",
   "metadata": {
    "execution": {
     "iopub.execute_input": "2023-06-20T00:27:07.084666Z",
     "iopub.status.busy": "2023-06-20T00:27:07.083860Z",
     "iopub.status.idle": "2023-06-20T00:27:16.095114Z",
     "shell.execute_reply": "2023-06-20T00:27:16.093942Z"
    },
    "id": "kJuXqpDDXskx",
    "papermill": {
     "duration": 9.023809,
     "end_time": "2023-06-20T00:27:16.098306",
     "exception": false,
     "start_time": "2023-06-20T00:27:07.074497",
     "status": "completed"
    },
    "scrolled": true,
    "tags": []
   },
   "outputs": [
    {
     "name": "stderr",
     "output_type": "stream",
     "text": [
      "/opt/conda/lib/python3.10/site-packages/tensorflow_io/python/ops/__init__.py:98: UserWarning: unable to load libtensorflow_io_plugins.so: unable to open file: libtensorflow_io_plugins.so, from paths: ['/opt/conda/lib/python3.10/site-packages/tensorflow_io/python/ops/libtensorflow_io_plugins.so']\n",
      "caused by: ['/opt/conda/lib/python3.10/site-packages/tensorflow_io/python/ops/libtensorflow_io_plugins.so: undefined symbol: _ZN3tsl6StatusC1EN10tensorflow5error4CodeESt17basic_string_viewIcSt11char_traitsIcEENS_14SourceLocationE']\n",
      "  warnings.warn(f\"unable to load libtensorflow_io_plugins.so: {e}\")\n",
      "/opt/conda/lib/python3.10/site-packages/tensorflow_io/python/ops/__init__.py:104: UserWarning: file system plugins are not loaded: unable to open file: libtensorflow_io.so, from paths: ['/opt/conda/lib/python3.10/site-packages/tensorflow_io/python/ops/libtensorflow_io.so']\n",
      "caused by: ['/opt/conda/lib/python3.10/site-packages/tensorflow_io/python/ops/libtensorflow_io.so: undefined symbol: _ZTVN10tensorflow13GcsFileSystemE']\n",
      "  warnings.warn(f\"file system plugins are not loaded: {e}\")\n"
     ]
    }
   ],
   "source": [
    "import tensorflow as tf\n",
    "from tensorflow import keras\n",
    "from keras import models, layers, utils, losses, optimizers, initializers, regularizers\n",
    "from keras.wrappers import scikit_learn\n",
    "from keras.models import *\n",
    "from keras.layers import *\n",
    "from keras.wrappers.scikit_learn import KerasClassifier, KerasRegressor\n",
    "from keras.utils import np_utils, image_dataset_from_directory\n",
    "from keras.preprocessing.image import ImageDataGenerator\n",
    "from keras.callbacks import EarlyStopping, ReduceLROnPlateau\n",
    "\n",
    "from sklearn.preprocessing import LabelEncoder\n",
    "from sklearn.model_selection import train_test_split, cross_val_score, KFold\n",
    "from sklearn.pipeline import Pipeline\n",
    "from sklearn.metrics import confusion_matrix, classification_report\n",
    "\n",
    "import random\n",
    "import pandas as pd\n",
    "import numpy as np\n",
    "from PIL import Image, ImageFilter\n",
    "import matplotlib.pyplot as plt"
   ]
  },
  {
   "cell_type": "markdown",
   "id": "f28cabd2",
   "metadata": {
    "id": "14v7-4Ahre6v",
    "papermill": {
     "duration": 0.008282,
     "end_time": "2023-06-20T00:27:16.115882",
     "exception": false,
     "start_time": "2023-06-20T00:27:16.107600",
     "status": "completed"
    },
    "tags": []
   },
   "source": [
    "## Reads the `txt` File Specifying the Image File Locations"
   ]
  },
  {
   "cell_type": "code",
   "execution_count": 2,
   "id": "29216b32",
   "metadata": {
    "execution": {
     "iopub.execute_input": "2023-06-20T00:27:16.135259Z",
     "iopub.status.busy": "2023-06-20T00:27:16.133183Z",
     "iopub.status.idle": "2023-06-20T00:27:16.186287Z",
     "shell.execute_reply": "2023-06-20T00:27:16.185307Z"
    },
    "id": "3490JUu9rPbw",
    "papermill": {
     "duration": 0.064904,
     "end_time": "2023-06-20T00:27:16.188776",
     "exception": false,
     "start_time": "2023-06-20T00:27:16.123872",
     "status": "completed"
    },
    "tags": []
   },
   "outputs": [],
   "source": [
    "# flist = list(pd.read_csv('flist.txt', header = None)[0])\n",
    "flist = list(pd.read_csv('/kaggle/input/dissertation-1-data/Files/flist.txt', header = None)[0])"
   ]
  },
  {
   "cell_type": "markdown",
   "id": "577b383f",
   "metadata": {
    "id": "Wkzy9pS2sATL",
    "papermill": {
     "duration": 0.007794,
     "end_time": "2023-06-20T00:27:16.204489",
     "exception": false,
     "start_time": "2023-06-20T00:27:16.196695",
     "status": "completed"
    },
    "tags": []
   },
   "source": [
    "## Overview of the `properties` Dataset"
   ]
  },
  {
   "cell_type": "markdown",
   "id": "f1a04d02",
   "metadata": {
    "id": "P45IvHPN3z4m",
    "papermill": {
     "duration": 0.007447,
     "end_time": "2023-06-20T00:27:16.219593",
     "exception": false,
     "start_time": "2023-06-20T00:27:16.212146",
     "status": "completed"
    },
    "tags": []
   },
   "source": [
    "Read the `properties` dataset first, and make sure that `property type` is a categorical variable."
   ]
  },
  {
   "cell_type": "code",
   "execution_count": 3,
   "id": "11c4522b",
   "metadata": {
    "execution": {
     "iopub.execute_input": "2023-06-20T00:27:16.237706Z",
     "iopub.status.busy": "2023-06-20T00:27:16.236127Z",
     "iopub.status.idle": "2023-06-20T00:27:16.557319Z",
     "shell.execute_reply": "2023-06-20T00:27:16.555935Z"
    },
    "executionInfo": {
     "elapsed": 798,
     "status": "ok",
     "timestamp": 1687082845624,
     "user": {
      "displayName": "Siwang Lam (Robin)",
      "userId": "07119757220663994168"
     },
     "user_tz": -60
    },
    "id": "YUl8gDe9jXof",
    "outputId": "0df2eb86-ffd9-4078-f28b-ff5763a8bb66",
    "papermill": {
     "duration": 0.332423,
     "end_time": "2023-06-20T00:27:16.559625",
     "exception": false,
     "start_time": "2023-06-20T00:27:16.227202",
     "status": "completed"
    },
    "tags": []
   },
   "outputs": [
    {
     "name": "stdout",
     "output_type": "stream",
     "text": [
      "<class 'pandas.core.frame.DataFrame'>\n",
      "Int64Index: 37402 entries, 0 to 19851\n",
      "Data columns (total 8 columns):\n",
      " #   Column        Non-Null Count  Dtype   \n",
      "---  ------        --------------  -----   \n",
      " 0   Unnamed: 0    37402 non-null  int64   \n",
      " 1   address       37402 non-null  object  \n",
      " 2   propertyType  37402 non-null  category\n",
      " 3   bedrooms      24486 non-null  float64 \n",
      " 4   detailUrl     37402 non-null  object  \n",
      " 5   location_lat  37402 non-null  float64 \n",
      " 6   location_lng  37402 non-null  float64 \n",
      " 7   property_id   37402 non-null  object  \n",
      "dtypes: category(1), float64(3), int64(1), object(3)\n",
      "memory usage: 2.3+ MB\n"
     ]
    }
   ],
   "source": [
    "# properties = pd.read_csv('properties.csv')\n",
    "# properties_juny12 = pd.read_csv('properties_juny12.csv')\n",
    "properties = pd.read_csv('/kaggle/input/dissertation-1-data/Files/properties.csv')\n",
    "properties_juny12 = pd.read_csv('/kaggle/input/dissertation-1-data/Files/properties_juny12.csv')\n",
    "\n",
    "properties_full = pd.concat([properties, properties_juny12])\n",
    "properties = properties_full\n",
    "properties.propertyType = properties.propertyType.astype('category')\n",
    "properties.info()"
   ]
  },
  {
   "cell_type": "markdown",
   "id": "cea6959a",
   "metadata": {
    "id": "XDqLkqImshZy",
    "papermill": {
     "duration": 0.007931,
     "end_time": "2023-06-20T00:27:16.575971",
     "exception": false,
     "start_time": "2023-06-20T00:27:16.568040",
     "status": "completed"
    },
    "tags": []
   },
   "source": [
    "## A Subset of the `properties` Dataset"
   ]
  },
  {
   "cell_type": "markdown",
   "id": "8b5aee6f",
   "metadata": {
    "id": "JOB6YNsm3z4o",
    "papermill": {
     "duration": 0.007843,
     "end_time": "2023-06-20T00:27:16.592106",
     "exception": false,
     "start_time": "2023-06-20T00:27:16.584263",
     "status": "completed"
    },
    "tags": []
   },
   "source": [
    "As random samples of images have been obtained previously, a subset of the whole `properties` dataset could hence be formulated by selecting the rows of the whole `properties` dataset corresponding to the selected samples."
   ]
  },
  {
   "cell_type": "code",
   "execution_count": 4,
   "id": "1a12a508",
   "metadata": {
    "execution": {
     "iopub.execute_input": "2023-06-20T00:27:16.609734Z",
     "iopub.status.busy": "2023-06-20T00:27:16.609222Z",
     "iopub.status.idle": "2023-06-20T00:27:16.664297Z",
     "shell.execute_reply": "2023-06-20T00:27:16.662150Z"
    },
    "executionInfo": {
     "elapsed": 32,
     "status": "ok",
     "timestamp": 1687082845627,
     "user": {
      "displayName": "Siwang Lam (Robin)",
      "userId": "07119757220663994168"
     },
     "user_tz": -60
    },
    "id": "Nqmh9e2Mofpj",
    "outputId": "b74717c1-03f8-47ac-dcef-3c0c52daf528",
    "papermill": {
     "duration": 0.066815,
     "end_time": "2023-06-20T00:27:16.666701",
     "exception": false,
     "start_time": "2023-06-20T00:27:16.599886",
     "status": "completed"
    },
    "tags": []
   },
   "outputs": [
    {
     "name": "stdout",
     "output_type": "stream",
     "text": [
      "<class 'pandas.core.frame.DataFrame'>\n",
      "Int64Index: 15484 entries, 0 to 19851\n",
      "Data columns (total 8 columns):\n",
      " #   Column        Non-Null Count  Dtype   \n",
      "---  ------        --------------  -----   \n",
      " 0   Unnamed: 0    15484 non-null  int64   \n",
      " 1   address       15484 non-null  object  \n",
      " 2   propertyType  15484 non-null  category\n",
      " 3   bedrooms      10967 non-null  float64 \n",
      " 4   detailUrl     15484 non-null  object  \n",
      " 5   location_lat  15484 non-null  float64 \n",
      " 6   location_lng  15484 non-null  float64 \n",
      " 7   property_id   15484 non-null  object  \n",
      "dtypes: category(1), float64(3), int64(1), object(3)\n",
      "memory usage: 983.1+ KB\n"
     ]
    }
   ],
   "source": [
    "flist_id = list(map(lambda string: string[-40 : -4], flist))\n",
    "properties_sub = pd.DataFrame(properties.loc[properties['property_id'].isin(flist_id)])\n",
    "properties_sub = properties_sub.drop_duplicates(['location_lat', 'location_lng'])\n",
    "\n",
    "# properties_sub = pd.read_csv('properties_sub.csv')\n",
    "# properties_sub = pd.read_csv('/kaggle/input/dissertation-1-data/Files/properties_sub.csv')\n",
    "\n",
    "properties_sub.propertyType = properties_sub.propertyType.astype('category')\n",
    "flist_id = list(properties_sub.property_id)\n",
    "properties_sub.info()"
   ]
  },
  {
   "cell_type": "code",
   "execution_count": 5,
   "id": "8fb47c67",
   "metadata": {
    "execution": {
     "iopub.execute_input": "2023-06-20T00:27:16.685704Z",
     "iopub.status.busy": "2023-06-20T00:27:16.684010Z",
     "iopub.status.idle": "2023-06-20T00:27:16.694530Z",
     "shell.execute_reply": "2023-06-20T00:27:16.693427Z"
    },
    "executionInfo": {
     "elapsed": 25,
     "status": "ok",
     "timestamp": 1687082845629,
     "user": {
      "displayName": "Siwang Lam (Robin)",
      "userId": "07119757220663994168"
     },
     "user_tz": -60
    },
    "id": "vBzsznxg7MEm",
    "outputId": "4db36655-72a0-4be6-f002-a2180e53394d",
    "papermill": {
     "duration": 0.022178,
     "end_time": "2023-06-20T00:27:16.697000",
     "exception": false,
     "start_time": "2023-06-20T00:27:16.674822",
     "status": "completed"
    },
    "tags": []
   },
   "outputs": [
    {
     "data": {
      "text/plain": [
       "Detached         3337\n",
       "Flat             2252\n",
       "Semi-Detached    4062\n",
       "Terraced         4124\n",
       "Unknown          1709\n",
       "Name: propertyType, dtype: int64"
      ]
     },
     "execution_count": 5,
     "metadata": {},
     "output_type": "execute_result"
    }
   ],
   "source": [
    "properties_sub.propertyType.value_counts(sort = False)"
   ]
  },
  {
   "cell_type": "markdown",
   "id": "1b3416d0",
   "metadata": {
    "id": "JvcYMSeg3z4p",
    "papermill": {
     "duration": 0.007917,
     "end_time": "2023-06-20T00:27:16.712863",
     "exception": false,
     "start_time": "2023-06-20T00:27:16.704946",
     "status": "completed"
    },
    "tags": []
   },
   "source": [
    "The original data should be splitted into training and testing sets, and the testing set contains 30% of the original data."
   ]
  },
  {
   "cell_type": "code",
   "execution_count": 6,
   "id": "7749a601",
   "metadata": {
    "execution": {
     "iopub.execute_input": "2023-06-20T00:27:16.729829Z",
     "iopub.status.busy": "2023-06-20T00:27:16.729526Z",
     "iopub.status.idle": "2023-06-20T00:27:31.108838Z",
     "shell.execute_reply": "2023-06-20T00:27:31.107560Z"
    },
    "executionInfo": {
     "elapsed": 34730,
     "status": "ok",
     "timestamp": 1687082880342,
     "user": {
      "displayName": "Siwang Lam (Robin)",
      "userId": "07119757220663994168"
     },
     "user_tz": -60
    },
    "id": "2SRMZ9gY3z4p",
    "outputId": "1807b84c-a49a-4d5e-916e-2c166cbaf446",
    "papermill": {
     "duration": 14.390517,
     "end_time": "2023-06-20T00:27:31.111265",
     "exception": false,
     "start_time": "2023-06-20T00:27:16.720748",
     "status": "completed"
    },
    "tags": []
   },
   "outputs": [
    {
     "name": "stdout",
     "output_type": "stream",
     "text": [
      "Found 13775 files belonging to 4 classes.\n",
      "Using 9643 files for training.\n",
      "Found 13775 files belonging to 4 classes.\n",
      "Using 4132 files for validation.\n"
     ]
    }
   ],
   "source": [
    "# directory = 'street_view/'\n",
    "directory = '/kaggle/input/dissertation-1-data/Files/street_view/'\n",
    "\n",
    "height = 64\n",
    "width = 64\n",
    "batch = 32\n",
    "seed = np.random.randint(1, np.power(2, 32) - 1)\n",
    "\n",
    "training = image_dataset_from_directory(\n",
    "  directory,\n",
    "  validation_split = 0.3,\n",
    "  subset = 'training',\n",
    "  seed = seed,\n",
    "  image_size = (height, width),\n",
    "  batch_size = batch,\n",
    "  label_mode = 'categorical')\n",
    "\n",
    "validation = image_dataset_from_directory(\n",
    "  directory,\n",
    "  validation_split = 0.3,\n",
    "  subset = 'validation',\n",
    "  seed = seed,\n",
    "  image_size = (height, width),\n",
    "  batch_size = batch,\n",
    "  label_mode = 'categorical')\n",
    "\n",
    "training = training.cache().prefetch(buffer_size = tf.data.AUTOTUNE)\n",
    "validation = validation.cache().prefetch(buffer_size = tf.data.AUTOTUNE)"
   ]
  },
  {
   "cell_type": "code",
   "execution_count": 7,
   "id": "8dab6327",
   "metadata": {
    "execution": {
     "iopub.execute_input": "2023-06-20T00:27:31.130354Z",
     "iopub.status.busy": "2023-06-20T00:27:31.130044Z",
     "iopub.status.idle": "2023-06-20T00:28:00.067088Z",
     "shell.execute_reply": "2023-06-20T00:28:00.065934Z"
    },
    "papermill": {
     "duration": 28.949568,
     "end_time": "2023-06-20T00:28:00.069914",
     "exception": false,
     "start_time": "2023-06-20T00:27:31.120346",
     "status": "completed"
    },
    "tags": []
   },
   "outputs": [],
   "source": [
    "propertyType_train_fac = np.argmax(np.asarray(list(training.unbatch().map(lambda x, y: y))), axis = 1)\n",
    "propertyType_validation_fac = np.argmax(np.asarray(list(validation.unbatch().map(lambda x, y: y))), axis = 1)\n",
    "labels = pd.Series(propertyType_train_fac).astype('category')"
   ]
  },
  {
   "cell_type": "code",
   "execution_count": 8,
   "id": "0ecdbce0",
   "metadata": {
    "execution": {
     "iopub.execute_input": "2023-06-20T00:28:00.090717Z",
     "iopub.status.busy": "2023-06-20T00:28:00.090355Z",
     "iopub.status.idle": "2023-06-20T00:28:00.099172Z",
     "shell.execute_reply": "2023-06-20T00:28:00.098125Z"
    },
    "id": "IJJ_9gN73z4q",
    "papermill": {
     "duration": 0.021337,
     "end_time": "2023-06-20T00:28:00.101589",
     "exception": false,
     "start_time": "2023-06-20T00:28:00.080252",
     "status": "completed"
    },
    "tags": []
   },
   "outputs": [],
   "source": [
    "loss = losses.CategoricalCrossentropy()\n",
    "weights = sum(labels.value_counts()) / (labels.value_counts(sort = False) * len(labels.cat.categories))\n",
    "loss.weighted = weights"
   ]
  },
  {
   "cell_type": "code",
   "execution_count": 9,
   "id": "a07c56a7",
   "metadata": {
    "execution": {
     "iopub.execute_input": "2023-06-20T00:28:00.121041Z",
     "iopub.status.busy": "2023-06-20T00:28:00.120705Z",
     "iopub.status.idle": "2023-06-20T00:28:00.125194Z",
     "shell.execute_reply": "2023-06-20T00:28:00.124141Z"
    },
    "papermill": {
     "duration": 0.018865,
     "end_time": "2023-06-20T00:28:00.129851",
     "exception": false,
     "start_time": "2023-06-20T00:28:00.110986",
     "status": "completed"
    },
    "tags": []
   },
   "outputs": [],
   "source": [
    "# sample_weights = weights[propertyType_train_fac]\n",
    "# training_new = training.unbatch().batch(1).map(lambda x, y: (x, y, sample_weights))"
   ]
  },
  {
   "cell_type": "code",
   "execution_count": 10,
   "id": "f4df3ccf",
   "metadata": {
    "execution": {
     "iopub.execute_input": "2023-06-20T00:28:00.150107Z",
     "iopub.status.busy": "2023-06-20T00:28:00.149789Z",
     "iopub.status.idle": "2023-06-20T00:28:00.155211Z",
     "shell.execute_reply": "2023-06-20T00:28:00.154107Z"
    },
    "papermill": {
     "duration": 0.017919,
     "end_time": "2023-06-20T00:28:00.157880",
     "exception": false,
     "start_time": "2023-06-20T00:28:00.139961",
     "status": "completed"
    },
    "tags": []
   },
   "outputs": [],
   "source": [
    "Callbacks = [\n",
    "             EarlyStopping(monitor = 'val_accuracy', mode = 'max', patience = 8, restore_best_weights = True), \n",
    "             ReduceLROnPlateau(monitor = 'val_accuracy', factor = 1e-2, patience = 0, cooldown = 0)\n",
    "            ]"
   ]
  },
  {
   "cell_type": "markdown",
   "id": "e553f7ae",
   "metadata": {
    "id": "CzlhhsNtuQJB",
    "papermill": {
     "duration": 0.008662,
     "end_time": "2023-06-20T00:28:00.175247",
     "exception": false,
     "start_time": "2023-06-20T00:28:00.166585",
     "status": "completed"
    },
    "tags": []
   },
   "source": [
    "## Multi-Class Classification Using Neural Network"
   ]
  },
  {
   "cell_type": "markdown",
   "id": "e1c88122",
   "metadata": {
    "id": "4yQp9n7C3z4r",
    "papermill": {
     "duration": 0.008139,
     "end_time": "2023-06-20T00:28:00.191907",
     "exception": false,
     "start_time": "2023-06-20T00:28:00.183768",
     "status": "completed"
    },
    "tags": []
   },
   "source": [
    "### Multi-Layer Perceptron (MLP) model"
   ]
  },
  {
   "cell_type": "code",
   "execution_count": 11,
   "id": "3279f24c",
   "metadata": {
    "execution": {
     "iopub.execute_input": "2023-06-20T00:28:00.210481Z",
     "iopub.status.busy": "2023-06-20T00:28:00.210147Z",
     "iopub.status.idle": "2023-06-20T00:28:00.330836Z",
     "shell.execute_reply": "2023-06-20T00:28:00.329818Z"
    },
    "id": "bMonKXA_3z4r",
    "papermill": {
     "duration": 0.139567,
     "end_time": "2023-06-20T00:28:00.339977",
     "exception": false,
     "start_time": "2023-06-20T00:28:00.200410",
     "status": "completed"
    },
    "tags": []
   },
   "outputs": [
    {
     "name": "stdout",
     "output_type": "stream",
     "text": [
      "Model: \"sequential\"\n",
      "_________________________________________________________________\n",
      " Layer (type)                Output Shape              Param #   \n",
      "=================================================================\n",
      " rescaling (Rescaling)       (None, 64, 64, 3)         0         \n",
      "                                                                 \n",
      " flatten (Flatten)           (None, 12288)             0         \n",
      "                                                                 \n",
      " dense (Dense)               (None, 128)               1572992   \n",
      "                                                                 \n",
      " dense_1 (Dense)             (None, 4)                 516       \n",
      "                                                                 \n",
      "=================================================================\n",
      "Total params: 1,573,508\n",
      "Trainable params: 1,573,508\n",
      "Non-trainable params: 0\n",
      "_________________________________________________________________\n"
     ]
    }
   ],
   "source": [
    "mlp = Sequential([\n",
    "                  Rescaling(1. / 255, input_shape = (height, width, 3)),\n",
    "                  Flatten(),\n",
    "                  Dense(128, activation = tf.nn.leaky_relu),\n",
    "                  Dense(\n",
    "                        len(labels.cat.categories), \n",
    "                        activation = tf.nn.softmax, \n",
    "                        kernel_initializer = initializers.RandomNormal(),\n",
    "                        bias_initializer = initializers.Zeros(),\n",
    "                        kernel_regularizer = regularizers.L1(1e-4),\n",
    "                        bias_regularizer = regularizers.L1(1),\n",
    "                        activity_regularizer = regularizers.L1(1)\n",
    "                       )\n",
    "                ])\n",
    "mlp.compile(loss = loss, optimizer = optimizers.Adam(), metrics = ['accuracy'])\n",
    "mlp.summary()"
   ]
  },
  {
   "cell_type": "code",
   "execution_count": 12,
   "id": "d44b7306",
   "metadata": {
    "execution": {
     "iopub.execute_input": "2023-06-20T00:28:00.361436Z",
     "iopub.status.busy": "2023-06-20T00:28:00.361129Z",
     "iopub.status.idle": "2023-06-20T00:28:22.472609Z",
     "shell.execute_reply": "2023-06-20T00:28:22.471415Z"
    },
    "id": "zz6qw9ZvuQJB",
    "papermill": {
     "duration": 22.124827,
     "end_time": "2023-06-20T00:28:22.474951",
     "exception": false,
     "start_time": "2023-06-20T00:28:00.350124",
     "status": "completed"
    },
    "tags": []
   },
   "outputs": [
    {
     "name": "stdout",
     "output_type": "stream",
     "text": [
      "Epoch 1/64\n",
      "302/302 [==============================] - 4s 5ms/step - loss: 2.4851 - accuracy: 0.3315 - val_loss: 2.4312 - val_accuracy: 0.3637 - lr: 0.0010\n",
      "Epoch 2/64\n",
      "302/302 [==============================] - 2s 6ms/step - loss: 2.3577 - accuracy: 0.3584 - val_loss: 2.3512 - val_accuracy: 0.3161 - lr: 0.0010\n",
      "Epoch 3/64\n",
      "302/302 [==============================] - 1s 4ms/step - loss: 2.2309 - accuracy: 0.4442 - val_loss: 2.2702 - val_accuracy: 0.3971 - lr: 1.0000e-05\n",
      "Epoch 4/64\n",
      "302/302 [==============================] - 1s 4ms/step - loss: 2.2245 - accuracy: 0.4472 - val_loss: 2.2711 - val_accuracy: 0.3993 - lr: 1.0000e-05\n",
      "Epoch 5/64\n",
      "302/302 [==============================] - 1s 4ms/step - loss: 2.2229 - accuracy: 0.4475 - val_loss: 2.2716 - val_accuracy: 0.3991 - lr: 1.0000e-05\n",
      "Epoch 6/64\n",
      "302/302 [==============================] - 1s 4ms/step - loss: 2.2230 - accuracy: 0.4409 - val_loss: 2.2704 - val_accuracy: 0.4000 - lr: 1.0000e-07\n",
      "Epoch 7/64\n",
      "302/302 [==============================] - 1s 4ms/step - loss: 2.2222 - accuracy: 0.4418 - val_loss: 2.2696 - val_accuracy: 0.3988 - lr: 1.0000e-07\n",
      "Epoch 8/64\n",
      "302/302 [==============================] - 1s 4ms/step - loss: 2.2218 - accuracy: 0.4423 - val_loss: 2.2696 - val_accuracy: 0.3988 - lr: 1.0000e-09\n",
      "Epoch 9/64\n",
      "302/302 [==============================] - 1s 5ms/step - loss: 2.2218 - accuracy: 0.4423 - val_loss: 2.2696 - val_accuracy: 0.3988 - lr: 1.0000e-11\n",
      "Epoch 10/64\n",
      "302/302 [==============================] - 1s 4ms/step - loss: 2.2218 - accuracy: 0.4423 - val_loss: 2.2696 - val_accuracy: 0.3988 - lr: 1.0000e-13\n",
      "Epoch 11/64\n",
      "302/302 [==============================] - 2s 6ms/step - loss: 2.2218 - accuracy: 0.4423 - val_loss: 2.2696 - val_accuracy: 0.3988 - lr: 1.0000e-15\n",
      "Epoch 12/64\n",
      "302/302 [==============================] - 1s 5ms/step - loss: 2.2218 - accuracy: 0.4423 - val_loss: 2.2696 - val_accuracy: 0.3988 - lr: 1.0000e-17\n",
      "Epoch 13/64\n",
      "302/302 [==============================] - 1s 4ms/step - loss: 2.2218 - accuracy: 0.4423 - val_loss: 2.2696 - val_accuracy: 0.3988 - lr: 1.0000e-19\n",
      "Epoch 14/64\n",
      "302/302 [==============================] - 1s 4ms/step - loss: 2.2218 - accuracy: 0.4423 - val_loss: 2.2696 - val_accuracy: 0.3988 - lr: 1.0000e-21\n"
     ]
    },
    {
     "data": {
      "text/plain": [
       "<keras.callbacks.History at 0x7e7f970bf7c0>"
      ]
     },
     "execution_count": 12,
     "metadata": {},
     "output_type": "execute_result"
    }
   ],
   "source": [
    "mlp.fit(training, validation_data = validation, epochs = 64, batch_size = 64, callbacks = Callbacks)"
   ]
  },
  {
   "cell_type": "code",
   "execution_count": 13,
   "id": "5bb0e326",
   "metadata": {
    "execution": {
     "iopub.execute_input": "2023-06-20T00:28:22.549101Z",
     "iopub.status.busy": "2023-06-20T00:28:22.548740Z",
     "iopub.status.idle": "2023-06-20T00:28:22.990545Z",
     "shell.execute_reply": "2023-06-20T00:28:22.989387Z"
    },
    "id": "HHN3gmu93z4t",
    "papermill": {
     "duration": 0.480599,
     "end_time": "2023-06-20T00:28:22.993000",
     "exception": false,
     "start_time": "2023-06-20T00:28:22.512401",
     "status": "completed"
    },
    "tags": []
   },
   "outputs": [
    {
     "name": "stdout",
     "output_type": "stream",
     "text": [
      "130/130 [==============================] - 0s 2ms/step\n"
     ]
    },
    {
     "data": {
      "text/plain": [
       "array([[225,  62, 500, 221],\n",
       "       [ 33, 140, 163, 324],\n",
       "       [142,  52, 659, 348],\n",
       "       [100,  80, 454, 629]])"
      ]
     },
     "execution_count": 13,
     "metadata": {},
     "output_type": "execute_result"
    }
   ],
   "source": [
    "propertyType_validation_pred_MLP = np.argmax(mlp.predict(validation), axis = 1)\n",
    "confusion_matrix(propertyType_validation_fac, propertyType_validation_pred_MLP)"
   ]
  },
  {
   "cell_type": "code",
   "execution_count": 14,
   "id": "274c9165",
   "metadata": {
    "execution": {
     "iopub.execute_input": "2023-06-20T00:28:23.068978Z",
     "iopub.status.busy": "2023-06-20T00:28:23.068261Z",
     "iopub.status.idle": "2023-06-20T00:28:23.090759Z",
     "shell.execute_reply": "2023-06-20T00:28:23.089530Z"
    },
    "papermill": {
     "duration": 0.062116,
     "end_time": "2023-06-20T00:28:23.093243",
     "exception": false,
     "start_time": "2023-06-20T00:28:23.031127",
     "status": "completed"
    },
    "tags": []
   },
   "outputs": [
    {
     "name": "stdout",
     "output_type": "stream",
     "text": [
      "               precision    recall  f1-score   support\n",
      "\n",
      "     Detached       0.45      0.22      0.30      1008\n",
      "         Flat       0.42      0.21      0.28       660\n",
      "Semi-Detached       0.37      0.55      0.44      1201\n",
      "     Terraced       0.41      0.50      0.45      1263\n",
      "\n",
      "     accuracy                           0.40      4132\n",
      "    macro avg       0.41      0.37      0.37      4132\n",
      " weighted avg       0.41      0.40      0.38      4132\n",
      "\n"
     ]
    }
   ],
   "source": [
    "print(\n",
    "      classification_report(\n",
    "                      propertyType_validation_fac, \n",
    "                      propertyType_validation_pred_MLP, \n",
    "                      target_names = ['Detached', 'Flat', 'Semi-Detached', 'Terraced']\n",
    "      )\n",
    ")"
   ]
  },
  {
   "cell_type": "markdown",
   "id": "d1d34c45",
   "metadata": {
    "id": "3mH00TvZ3z4u",
    "papermill": {
     "duration": 0.035137,
     "end_time": "2023-06-20T00:28:23.166553",
     "exception": false,
     "start_time": "2023-06-20T00:28:23.131416",
     "status": "completed"
    },
    "tags": []
   },
   "source": [
    "## Convolutional Neural Network (CNN) Model"
   ]
  },
  {
   "cell_type": "code",
   "execution_count": 15,
   "id": "9c935bf8",
   "metadata": {
    "execution": {
     "iopub.execute_input": "2023-06-20T00:28:23.241838Z",
     "iopub.status.busy": "2023-06-20T00:28:23.241105Z",
     "iopub.status.idle": "2023-06-20T00:28:23.363988Z",
     "shell.execute_reply": "2023-06-20T00:28:23.363176Z"
    },
    "id": "_CwhXPii3z4v",
    "papermill": {
     "duration": 0.179595,
     "end_time": "2023-06-20T00:28:23.381812",
     "exception": false,
     "start_time": "2023-06-20T00:28:23.202217",
     "status": "completed"
    },
    "tags": []
   },
   "outputs": [
    {
     "name": "stdout",
     "output_type": "stream",
     "text": [
      "Model: \"sequential_1\"\n",
      "_________________________________________________________________\n",
      " Layer (type)                Output Shape              Param #   \n",
      "=================================================================\n",
      " rescaling_1 (Rescaling)     (None, 64, 64, 3)         0         \n",
      "                                                                 \n",
      " conv2d (Conv2D)             (None, 64, 64, 8)         392       \n",
      "                                                                 \n",
      " max_pooling2d (MaxPooling2D  (None, 32, 32, 8)        0         \n",
      " )                                                               \n",
      "                                                                 \n",
      " conv2d_1 (Conv2D)           (None, 32, 32, 4)         516       \n",
      "                                                                 \n",
      " max_pooling2d_1 (MaxPooling  (None, 16, 16, 4)        0         \n",
      " 2D)                                                             \n",
      "                                                                 \n",
      " flatten_1 (Flatten)         (None, 1024)              0         \n",
      "                                                                 \n",
      " dense_2 (Dense)             (None, 16)                16400     \n",
      "                                                                 \n",
      " dropout (Dropout)           (None, 16)                0         \n",
      "                                                                 \n",
      " dense_3 (Dense)             (None, 4)                 68        \n",
      "                                                                 \n",
      "=================================================================\n",
      "Total params: 17,376\n",
      "Trainable params: 17,376\n",
      "Non-trainable params: 0\n",
      "_________________________________________________________________\n"
     ]
    }
   ],
   "source": [
    "cnn = Sequential([\n",
    "                  Rescaling(1. / 255, input_shape = (height, width, 3)),\n",
    "                  Conv2D(8, 4, padding = 'same', activation = tf.nn.leaky_relu),\n",
    "                  MaxPooling2D(pool_size = (2, 2)),\n",
    "                  Conv2D(4, 4, padding = 'same', activation = tf.nn.leaky_relu),\n",
    "                  MaxPooling2D(pool_size = (2, 2)),\n",
    "                  Flatten(),\n",
    "                  Dense(16, activation = tf.nn.leaky_relu),\n",
    "                  Dropout(.25),\n",
    "                  Dense(\n",
    "                        len(labels.cat.categories), \n",
    "                        activation = tf.nn.softmax, \n",
    "                        kernel_initializer = initializers.RandomNormal(),\n",
    "                        bias_initializer = initializers.Zeros(),\n",
    "                        kernel_regularizer = regularizers.L1(1e-4),\n",
    "                        bias_regularizer = regularizers.L1(1),\n",
    "                        activity_regularizer = regularizers.L1(1)\n",
    "                       )\n",
    "                ])\n",
    "cnn.compile(loss = loss, optimizer = optimizers.Adam(), metrics = ['accuracy'])\n",
    "cnn.summary()"
   ]
  },
  {
   "cell_type": "code",
   "execution_count": 16,
   "id": "bead6b43",
   "metadata": {
    "execution": {
     "iopub.execute_input": "2023-06-20T00:28:23.459332Z",
     "iopub.status.busy": "2023-06-20T00:28:23.458982Z",
     "iopub.status.idle": "2023-06-20T00:28:57.569568Z",
     "shell.execute_reply": "2023-06-20T00:28:57.568398Z"
    },
    "id": "K63vDgyi3z4v",
    "papermill": {
     "duration": 34.152048,
     "end_time": "2023-06-20T00:28:57.571860",
     "exception": false,
     "start_time": "2023-06-20T00:28:23.419812",
     "status": "completed"
    },
    "tags": []
   },
   "outputs": [
    {
     "name": "stdout",
     "output_type": "stream",
     "text": [
      "Epoch 1/64\n",
      "302/302 [==============================] - 6s 6ms/step - loss: 2.3304 - accuracy: 0.3401 - val_loss: 2.3150 - val_accuracy: 0.3681 - lr: 0.0010\n",
      "Epoch 2/64\n",
      "302/302 [==============================] - 2s 5ms/step - loss: 2.2772 - accuracy: 0.3968 - val_loss: 2.3022 - val_accuracy: 0.3761 - lr: 0.0010\n",
      "Epoch 3/64\n",
      "302/302 [==============================] - 2s 5ms/step - loss: 2.2622 - accuracy: 0.4040 - val_loss: 2.2885 - val_accuracy: 0.3872 - lr: 0.0010\n",
      "Epoch 4/64\n",
      "302/302 [==============================] - 2s 6ms/step - loss: 2.2512 - accuracy: 0.4153 - val_loss: 2.2656 - val_accuracy: 0.3971 - lr: 0.0010\n",
      "Epoch 5/64\n",
      "302/302 [==============================] - 2s 5ms/step - loss: 2.2448 - accuracy: 0.4226 - val_loss: 2.2680 - val_accuracy: 0.4068 - lr: 0.0010\n",
      "Epoch 6/64\n",
      "302/302 [==============================] - 2s 6ms/step - loss: 2.2328 - accuracy: 0.4314 - val_loss: 2.2808 - val_accuracy: 0.4059 - lr: 0.0010\n",
      "Epoch 7/64\n",
      "302/302 [==============================] - 2s 5ms/step - loss: 2.2220 - accuracy: 0.4349 - val_loss: 2.2475 - val_accuracy: 0.4211 - lr: 1.0000e-05\n",
      "Epoch 8/64\n",
      "302/302 [==============================] - 2s 6ms/step - loss: 2.2113 - accuracy: 0.4404 - val_loss: 2.2429 - val_accuracy: 0.4213 - lr: 1.0000e-05\n",
      "Epoch 9/64\n",
      "302/302 [==============================] - 2s 5ms/step - loss: 2.2078 - accuracy: 0.4435 - val_loss: 2.2414 - val_accuracy: 0.4206 - lr: 1.0000e-05\n",
      "Epoch 10/64\n",
      "302/302 [==============================] - 2s 6ms/step - loss: 2.2082 - accuracy: 0.4526 - val_loss: 2.2414 - val_accuracy: 0.4206 - lr: 1.0000e-07\n",
      "Epoch 11/64\n",
      "302/302 [==============================] - 2s 5ms/step - loss: 2.2084 - accuracy: 0.4490 - val_loss: 2.2414 - val_accuracy: 0.4206 - lr: 1.0000e-09\n",
      "Epoch 12/64\n",
      "302/302 [==============================] - 2s 6ms/step - loss: 2.2070 - accuracy: 0.4509 - val_loss: 2.2414 - val_accuracy: 0.4206 - lr: 1.0000e-11\n",
      "Epoch 13/64\n",
      "302/302 [==============================] - 2s 6ms/step - loss: 2.2072 - accuracy: 0.4452 - val_loss: 2.2414 - val_accuracy: 0.4206 - lr: 1.0000e-13\n",
      "Epoch 14/64\n",
      "302/302 [==============================] - 2s 6ms/step - loss: 2.2068 - accuracy: 0.4483 - val_loss: 2.2414 - val_accuracy: 0.4206 - lr: 1.0000e-15\n",
      "Epoch 15/64\n",
      "302/302 [==============================] - 2s 6ms/step - loss: 2.2074 - accuracy: 0.4480 - val_loss: 2.2414 - val_accuracy: 0.4206 - lr: 1.0000e-17\n",
      "Epoch 16/64\n",
      "302/302 [==============================] - 2s 5ms/step - loss: 2.2082 - accuracy: 0.4451 - val_loss: 2.2414 - val_accuracy: 0.4206 - lr: 1.0000e-19\n"
     ]
    },
    {
     "data": {
      "text/plain": [
       "<keras.callbacks.History at 0x7e7ef632d030>"
      ]
     },
     "execution_count": 16,
     "metadata": {},
     "output_type": "execute_result"
    }
   ],
   "source": [
    "cnn.fit(training, validation_data = validation, epochs = 64, batch_size = 64, callbacks = Callbacks)"
   ]
  },
  {
   "cell_type": "code",
   "execution_count": 17,
   "id": "fa262081",
   "metadata": {
    "execution": {
     "iopub.execute_input": "2023-06-20T00:28:57.725876Z",
     "iopub.status.busy": "2023-06-20T00:28:57.725451Z",
     "iopub.status.idle": "2023-06-20T00:28:58.137618Z",
     "shell.execute_reply": "2023-06-20T00:28:58.136550Z"
    },
    "id": "b_txaWaA3z4v",
    "papermill": {
     "duration": 0.489968,
     "end_time": "2023-06-20T00:28:58.140216",
     "exception": false,
     "start_time": "2023-06-20T00:28:57.650248",
     "status": "completed"
    },
    "tags": []
   },
   "outputs": [
    {
     "name": "stdout",
     "output_type": "stream",
     "text": [
      "130/130 [==============================] - 0s 2ms/step\n"
     ]
    },
    {
     "data": {
      "text/plain": [
       "array([[305,  80, 472, 151],\n",
       "       [ 64, 215, 140, 241],\n",
       "       [197,  72, 692, 240],\n",
       "       [148, 124, 462, 529]])"
      ]
     },
     "execution_count": 17,
     "metadata": {},
     "output_type": "execute_result"
    }
   ],
   "source": [
    "propertyType_validation_pred_CNN = np.argmax(cnn.predict(validation), axis = 1)\n",
    "confusion_matrix(propertyType_validation_fac, propertyType_validation_pred_CNN)"
   ]
  },
  {
   "cell_type": "code",
   "execution_count": 18,
   "id": "15be88a7",
   "metadata": {
    "execution": {
     "iopub.execute_input": "2023-06-20T00:28:58.293937Z",
     "iopub.status.busy": "2023-06-20T00:28:58.293507Z",
     "iopub.status.idle": "2023-06-20T00:28:58.313758Z",
     "shell.execute_reply": "2023-06-20T00:28:58.312551Z"
    },
    "papermill": {
     "duration": 0.097683,
     "end_time": "2023-06-20T00:28:58.316879",
     "exception": false,
     "start_time": "2023-06-20T00:28:58.219196",
     "status": "completed"
    },
    "tags": []
   },
   "outputs": [
    {
     "name": "stdout",
     "output_type": "stream",
     "text": [
      "               precision    recall  f1-score   support\n",
      "\n",
      "     Detached       0.43      0.30      0.35      1008\n",
      "         Flat       0.44      0.33      0.37       660\n",
      "Semi-Detached       0.39      0.58      0.47      1201\n",
      "     Terraced       0.46      0.42      0.44      1263\n",
      "\n",
      "     accuracy                           0.42      4132\n",
      "    macro avg       0.43      0.41      0.41      4132\n",
      " weighted avg       0.43      0.42      0.42      4132\n",
      "\n"
     ]
    }
   ],
   "source": [
    "print(\n",
    "      classification_report(\n",
    "                      propertyType_validation_fac, \n",
    "                      propertyType_validation_pred_CNN, \n",
    "                      target_names = ['Detached', 'Flat', 'Semi-Detached', 'Terraced']\n",
    "      )\n",
    ")"
   ]
  }
 ],
 "metadata": {
  "kernelspec": {
   "display_name": "Python 3",
   "language": "python",
   "name": "python3"
  },
  "language_info": {
   "codemirror_mode": {
    "name": "ipython",
    "version": 3
   },
   "file_extension": ".py",
   "mimetype": "text/x-python",
   "name": "python",
   "nbconvert_exporter": "python",
   "pygments_lexer": "ipython3",
   "version": "3.10.10"
  },
  "papermill": {
   "default_parameters": {},
   "duration": 125.879623,
   "end_time": "2023-06-20T00:29:01.679123",
   "environment_variables": {},
   "exception": null,
   "input_path": "__notebook__.ipynb",
   "output_path": "__notebook__.ipynb",
   "parameters": {},
   "start_time": "2023-06-20T00:26:55.799500",
   "version": "2.4.0"
  }
 },
 "nbformat": 4,
 "nbformat_minor": 5
}
